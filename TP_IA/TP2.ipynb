{
 "cells": [
  {
   "cell_type": "code",
   "execution_count": 7,
   "metadata": {},
   "outputs": [],
   "source": [
    "class Graph:\n",
    "    def __init__(self):\n",
    "        self.noeuds = {}\n",
    "    \n",
    "    def fils(self, name):\n",
    "        return self.noeuds[name]"
   ]
  },
  {
   "cell_type": "code",
   "execution_count": 8,
   "metadata": {},
   "outputs": [],
   "source": [
    "class Pile():\n",
    "    def __init__(self):\n",
    "        self.elements = []\n",
    "    \n",
    "    \n",
    "    def empiler(self,noeud):\n",
    "        self.elements.insert(0,noeud)\n",
    "   \n",
    "    \n",
    "    def contains(self, name):\n",
    "        for i in range(len(self.elements)):\n",
    "            return name in self.elements[i]\n",
    "    \n",
    "    def vide(self):\n",
    "        return not self.elements\n",
    "    \n",
    "    def depiler(self):\n",
    "        if not self.elements:\n",
    "            raise ValueError(\"la liste est vide\")\n",
    "        else:\n",
    "            return self.elements.pop(0)\n"
   ]
  },
  {
   "cell_type": "code",
   "execution_count": 9,
   "metadata": {},
   "outputs": [],
   "source": [
    "class File(Pile):\n",
    "    \n",
    "   \n",
    "    def desemfiler(self):\n",
    "        if not self.elements:\n",
    "            raise ValueError(\"la liste est vide\")\n",
    "        else:\n",
    "            return self.elements.pop()"
   ]
  },
  {
   "cell_type": "code",
   "execution_count": 10,
   "metadata": {},
   "outputs": [],
   "source": [
    "def parcours_avec_pile(graphe,source,destination):\n",
    "       \n",
    "        cout = 0\n",
    "        \n",
    "        frontiere = Pile() \n",
    "        frontiere.empiler(source)\n",
    "\n",
    "        explored = []\n",
    "\n",
    "        while True:\n",
    "\n",
    "            if frontiere.vide():\n",
    "                raise Exception(\"pas de solution\")\n",
    "\n",
    "            noeud = frontiere.depiler()\n",
    "\n",
    "            if noeud==destination:\n",
    "                \n",
    "                explored.append(destination)\n",
    "                \n",
    "                return explored, cout\n",
    "           \n",
    "            explored.append(noeud)\n",
    "\n",
    "            for n in graphe.fils(noeud):\n",
    "                \n",
    "                if not frontiere.contains(n) and n not in explored:\n",
    "                    frontiere.empiler(n)\n",
    "                    cout += 1"
   ]
  },
  {
   "cell_type": "code",
   "execution_count": 11,
   "metadata": {},
   "outputs": [],
   "source": [
    "def parcours_avec_file(graphe,source,destination):        \n",
    "        frontiere = File() \n",
    "        frontiere.empiler(source)\n",
    "        cout=0\n",
    "        explored = []\n",
    "        \n",
    "        while True:\n",
    "        \n",
    "            if frontiere.vide():\n",
    "                raise Exception(\"pas de solution\")\n",
    "            noeud = frontiere.desemfiler()\n",
    "            \n",
    "            if noeud==destination:\n",
    "                explored.append(destination)\n",
    "                return explored,cout\n",
    "            explored.append(noeud)\n",
    "           \n",
    "            for n in graphe.fils(noeud):\n",
    "                if not frontiere.contains(n) and n not in explored:\n",
    "                    frontiere.empiler(n)\n",
    "                    cout+=1"
   ]
  },
  {
   "cell_type": "code",
   "execution_count": 12,
   "metadata": {},
   "outputs": [],
   "source": [
    "graphe = Graph()\n",
    "graphe.noeuds = {\n",
    "    'A': ['B'],\n",
    "    'B': [ 'C', 'D'],\n",
    "    'C': ['E'],\n",
    "    'D': ['F'],\n",
    "    'E':[],\n",
    "    'F':[]\n",
    "}"
   ]
  },
  {
   "cell_type": "code",
   "execution_count": 13,
   "metadata": {},
   "outputs": [],
   "source": [
    "parcours=parcours_avec_pile(graphe,'A','F')"
   ]
  },
  {
   "cell_type": "code",
   "execution_count": 14,
   "metadata": {},
   "outputs": [
    {
     "name": "stdout",
     "output_type": "stream",
     "text": [
      "noeuds parcourus:  ['A', 'B', 'D', 'F']\n",
      "cout:  4\n"
     ]
    }
   ],
   "source": [
    "print(\"noeuds parcourus: \",parcours[0])\n",
    "print(\"cout: \",parcours[1])"
   ]
  },
  {
   "cell_type": "code",
   "execution_count": 15,
   "metadata": {},
   "outputs": [],
   "source": [
    "parcours_bis=parcours_avec_file(graphe,'A','F')"
   ]
  },
  {
   "cell_type": "code",
   "execution_count": 16,
   "metadata": {},
   "outputs": [
    {
     "name": "stdout",
     "output_type": "stream",
     "text": [
      "noeuds parcourus:  ['A', 'B', 'C', 'D', 'E', 'F']\n",
      "cout:  5\n"
     ]
    }
   ],
   "source": [
    "print(\"noeuds parcourus: \",parcours_bis[0])\n",
    "print(\"cout: \",parcours_bis[1])"
   ]
  }
 ],
 "metadata": {
  "kernelspec": {
   "display_name": "Python 3",
   "language": "python",
   "name": "python3"
  },
  "language_info": {
   "codemirror_mode": {
    "name": "ipython",
    "version": 3
   },
   "file_extension": ".py",
   "mimetype": "text/x-python",
   "name": "python",
   "nbconvert_exporter": "python",
   "pygments_lexer": "ipython3",
   "version": "3.7.3"
  }
 },
 "nbformat": 4,
 "nbformat_minor": 2
}
